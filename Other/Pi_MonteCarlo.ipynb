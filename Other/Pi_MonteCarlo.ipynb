{
 "cells": [
  {
   "cell_type": "code",
   "execution_count": 10,
   "id": "initial_id",
   "metadata": {
    "collapsed": true,
    "ExecuteTime": {
     "end_time": "2024-08-31T17:17:03.472029Z",
     "start_time": "2024-08-31T17:17:03.461309Z"
    }
   },
   "outputs": [],
   "source": [
    "import numpy as np\n",
    "\n",
    "def random_point():\n",
    "    return np.random.uniform(-1, 1), np.random.uniform(-1, 1)\n",
    "\n",
    "def is_inside_circle(x, y):\n",
    "    if x**2 + y**2 < 1:\n",
    "        return True\n",
    "    else:\n",
    "        return False"
   ]
  },
  {
   "cell_type": "code",
   "outputs": [
    {
     "name": "stdout",
     "output_type": "stream",
     "text": [
      "3.141922\n"
     ]
    }
   ],
   "source": [
    "N = int(1e7)\n",
    "inside = 0\n",
    "\n",
    "for i in range(N):\n",
    "    x, y = random_point()\n",
    "    if is_inside_circle(x, y) == True:\n",
    "        inside += 1\n",
    "        \n",
    "pi = 4 * inside/N # 4 is there because the square area is 2*2=4\n",
    "print(pi)"
   ],
   "metadata": {
    "collapsed": false,
    "ExecuteTime": {
     "end_time": "2024-08-31T17:19:53.711427Z",
     "start_time": "2024-08-31T17:18:20.089274Z"
    }
   },
   "id": "aa18d04c386679fa",
   "execution_count": 15
  }
 ],
 "metadata": {
  "kernelspec": {
   "display_name": "Python 3",
   "language": "python",
   "name": "python3"
  },
  "language_info": {
   "codemirror_mode": {
    "name": "ipython",
    "version": 2
   },
   "file_extension": ".py",
   "mimetype": "text/x-python",
   "name": "python",
   "nbconvert_exporter": "python",
   "pygments_lexer": "ipython2",
   "version": "2.7.6"
  }
 },
 "nbformat": 4,
 "nbformat_minor": 5
}
